{
 "cells": [
  {
   "cell_type": "code",
   "execution_count": 3,
   "metadata": {},
   "outputs": [
    {
     "data": {
      "application/vnd.jupyter.widget-view+json": {
       "model_id": "388550c2f4fc414080957c0aff4be13e",
       "version_major": 2,
       "version_minor": 0
      },
      "text/plain": [
       "Canvas(height=696, sync_image_data=True, width=1050)"
      ]
     },
     "metadata": {},
     "output_type": "display_data"
    }
   ],
   "source": [
    "import gymnasium as gym\n",
    "import importlib\n",
    "import numpy as np\n",
    "\n",
    "from time import sleep\n",
    "\n",
    "import backtothecode_gym\n",
    "import backtothecode_gym.envs.lib.board as board_lib\n",
    "import backtothecode_gym.envs.lib.renderer as renderer_lib\n",
    "import backtothecode_players as players\n",
    "\n",
    "importlib.reload(gym)\n",
    "importlib.reload(players)\n",
    "importlib.reload(board_lib)\n",
    "importlib.reload(renderer_lib)\n",
    "\n",
    "def create_game(params):\n",
    "    board = board_lib.Board(height=20, width=35)\n",
    "    bttc = gym.make(\n",
    "        id='BackToTheCode',\n",
    "        board=board,\n",
    "        players=[\n",
    "            players.RandomPlayer(\n",
    "                id=params.HERO_ID,\n",
    "                name='Hero',\n",
    "                board=board\n",
    "            ),\n",
    "            players.ConstantPlayer(\n",
    "                id=params.OPPONENT_ID,\n",
    "                name='Opponent',\n",
    "                board=board,\n",
    "                action=0\n",
    "            )\n",
    "        ],\n",
    "        renderer=renderer_lib.CanvasRenderer()\n",
    "    )\n",
    "    bttc.reset()\n",
    "    hero = bttc.unwrapped.get_player(params.HERO_ID)\n",
    "    return bttc, hero\n",
    "\n",
    "bttc, hero = create_game(backtothecode_gym.envs.BackToTheCodeEnvParams)\n",
    "terminated = False\n",
    "truncated = False\n",
    "while not terminated and not truncated:\n",
    "    action = hero.move()\n",
    "    observation, reward, terminated, truncated, info = bttc.step(action)\n",
    "    bttc.render()\n",
    "    sleep(0.01)\n",
    "\n",
    "bttc.close()"
   ]
  },
  {
   "cell_type": "code",
   "execution_count": null,
   "metadata": {},
   "outputs": [],
   "source": [
    "move_failures = [False, True]\n",
    "any(move_failures)"
   ]
  },
  {
   "cell_type": "code",
   "execution_count": null,
   "metadata": {},
   "outputs": [],
   "source": []
  },
  {
   "cell_type": "code",
   "execution_count": null,
   "metadata": {},
   "outputs": [],
   "source": []
  },
  {
   "cell_type": "code",
   "execution_count": null,
   "metadata": {},
   "outputs": [],
   "source": []
  }
 ],
 "metadata": {
  "kernelspec": {
   "display_name": "Python 3 (ipykernel)",
   "language": "python",
   "name": "python3"
  },
  "language_info": {
   "codemirror_mode": {
    "name": "ipython",
    "version": 3
   },
   "file_extension": ".py",
   "mimetype": "text/x-python",
   "name": "python",
   "nbconvert_exporter": "python",
   "pygments_lexer": "ipython3",
   "version": "3.9.17"
  }
 },
 "nbformat": 4,
 "nbformat_minor": 4
}
