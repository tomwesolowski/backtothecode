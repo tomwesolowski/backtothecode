{
 "cells": [
  {
   "cell_type": "code",
   "execution_count": 8,
   "metadata": {},
   "outputs": [
    {
     "data": {
      "application/vnd.jupyter.widget-view+json": {
       "model_id": "00d015cdaeec47bb83565071dd37c2b2",
       "version_major": 2,
       "version_minor": 0
      },
      "text/plain": [
       "Canvas(height=600, sync_image_data=True, width=1050)"
      ]
     },
     "metadata": {},
     "output_type": "display_data"
    }
   ],
   "source": [
    "import gymnasium as gym\n",
    "import importlib\n",
    "import numpy as np\n",
    "\n",
    "from time import sleep\n",
    "\n",
    "import backtothecode_gym.envs as envs\n",
    "import backtothecode_gym.envs.lib.renderer as renderer\n",
    "import backtothecode_players as players\n",
    "\n",
    "importlib.reload(envs)\n",
    "importlib.reload(gym)\n",
    "importlib.reload(players)\n",
    "importlib.reload(renderer)\n",
    "    \n",
    "env = gym.make('BackToTheCode', \n",
    "               board_size=(20, 35),\n",
    "               opponent=players.RandomPlayer(), \n",
    "               renderer=renderer.CanvasRenderer())\n",
    "env.reset()\n",
    "\n",
    "hero = players.RandomPlayer()\n",
    "hero.reset(envs.BackToTheCodeEnvParams.HERO_ID, env.unwrapped.board)\n",
    "\n",
    "terminated = False\n",
    "truncated = False\n",
    "while not terminated and not truncated:\n",
    "    action = hero.move()\n",
    "    observation, reward, terminated, truncated, info = env.step(action)\n",
    "    env.render()\n",
    "    sleep(0.5)\n",
    "\n",
    "env.close()"
   ]
  },
  {
   "cell_type": "code",
   "execution_count": null,
   "metadata": {},
   "outputs": [],
   "source": []
  }
 ],
 "metadata": {
  "kernelspec": {
   "display_name": "Python 3 (ipykernel)",
   "language": "python",
   "name": "python3"
  },
  "language_info": {
   "codemirror_mode": {
    "name": "ipython",
    "version": 3
   },
   "file_extension": ".py",
   "mimetype": "text/x-python",
   "name": "python",
   "nbconvert_exporter": "python",
   "pygments_lexer": "ipython3",
   "version": "3.9.17"
  }
 },
 "nbformat": 4,
 "nbformat_minor": 4
}
