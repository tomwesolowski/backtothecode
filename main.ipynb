{
 "cells": [
  {
   "cell_type": "code",
   "execution_count": null,
   "metadata": {},
   "outputs": [],
   "source": []
  },
  {
   "cell_type": "code",
   "execution_count": 5,
   "metadata": {},
   "outputs": [],
   "source": [
    "import gymnasium as gym\n",
    "import importlib\n",
    "import numpy as np\n",
    "\n",
    "from time import sleep\n",
    "\n",
    "import backtothecode_gym\n",
    "import backtothecode_gym.envs.lib.board as board_lib\n",
    "import backtothecode_gym.envs.lib.renderer as renderer_lib\n",
    "import backtothecode_players as players\n",
    "\n",
    "importlib.reload(gym)\n",
    "importlib.reload(players)\n",
    "importlib.reload(board_lib)\n",
    "importlib.reload(renderer_lib)\n",
    "\n",
    "def create_game(params):\n",
    "    board = board_lib.Board(height=20, width=35)\n",
    "    bttc = gym.make(\n",
    "        id='BackToTheCode',\n",
    "        board=board,\n",
    "        players=[\n",
    "            players.RandomPlayer(\n",
    "                id=params.HERO_ID,\n",
    "                name='Hero',\n",
    "                board=board\n",
    "            ),\n",
    "            players.RandomPlayer(\n",
    "                id=params.OPPONENT_ID,\n",
    "                name='Opponent',\n",
    "                board=board,\n",
    "            )\n",
    "        ],\n",
    "        renderer=renderer_lib.CanvasRenderer()\n",
    "    )\n",
    "    bttc.reset()\n",
    "    hero = bttc.unwrapped.get_player(params.HERO_ID)\n",
    "    return bttc, hero"
   ]
  },
  {
   "cell_type": "code",
   "execution_count": 6,
   "metadata": {},
   "outputs": [],
   "source": [
    "## Demo"
   ]
  },
  {
   "cell_type": "code",
   "execution_count": null,
   "metadata": {},
   "outputs": [],
   "source": [
    "bttc, hero = create_game(backtothecode_gym.envs.BackToTheCodeEnvParams)\n",
    "terminated = False\n",
    "truncated = False\n",
    "while not terminated and not truncated:\n",
    "    action = hero.move()\n",
    "    observation, reward, terminated, truncated, info = bttc.step(action)\n",
    "    bttc.render()\n",
    "    sleep(0.1)\n",
    "\n",
    "bttc.close()"
   ]
  },
  {
   "cell_type": "code",
   "execution_count": 7,
   "metadata": {},
   "outputs": [],
   "source": [
    "## Train AI"
   ]
  },
  {
   "cell_type": "code",
   "execution_count": null,
   "metadata": {},
   "outputs": [],
   "source": []
  },
  {
   "cell_type": "code",
   "execution_count": null,
   "metadata": {},
   "outputs": [],
   "source": [
    "plot_scores = []\n",
    "plot_mean_scores = []\n",
    "total_score = 0\n",
    "record = 0\n",
    "agent = Agent()\n",
    "game = SnakeGameAI()\n",
    "while True:\n",
    "    # get old state\n",
    "    state_old = agent.get_state(game)\n",
    "\n",
    "    # get move\n",
    "    final_move = agent.get_action(state_old)\n",
    "\n",
    "    # perform move and get new state\n",
    "    reward, done, score = game.play_step(final_move)\n",
    "    state_new = agent.get_state(game)\n",
    "\n",
    "    # train short memory\n",
    "    agent.train_short_memory(state_old, final_move, reward, state_new, done)\n",
    "\n",
    "    # remember\n",
    "    agent.remember(state_old, final_move, reward, state_new, done)\n",
    "\n",
    "    if done:\n",
    "        # train long memory, plot result\n",
    "        game.reset()\n",
    "        agent.n_games += 1\n",
    "        agent.train_long_memory()\n",
    "\n",
    "        if score > record:\n",
    "            record = score\n",
    "            agent.model.save()\n",
    "\n",
    "        print('Game', agent.n_games, 'Score', score, 'Record:', record)\n",
    "\n",
    "        plot_scores.append(score)\n",
    "        total_score += score\n",
    "        mean_score = total_score / agent.n_games\n",
    "        plot_mean_scores.append(mean_score)\n",
    "            plot(plot_scores, plot_mean_scores)"
   ]
  },
  {
   "cell_type": "code",
   "execution_count": null,
   "metadata": {},
   "outputs": [],
   "source": [
    "move_failures = [False, True]\n",
    "any(move_failures)"
   ]
  },
  {
   "cell_type": "code",
   "execution_count": null,
   "metadata": {},
   "outputs": [],
   "source": []
  },
  {
   "cell_type": "code",
   "execution_count": null,
   "metadata": {},
   "outputs": [],
   "source": []
  },
  {
   "cell_type": "code",
   "execution_count": null,
   "metadata": {},
   "outputs": [],
   "source": []
  }
 ],
 "metadata": {
  "kernelspec": {
   "display_name": "Python 3 (ipykernel)",
   "language": "python",
   "name": "python3"
  },
  "language_info": {
   "codemirror_mode": {
    "name": "ipython",
    "version": 3
   },
   "file_extension": ".py",
   "mimetype": "text/x-python",
   "name": "python",
   "nbconvert_exporter": "python",
   "pygments_lexer": "ipython3",
   "version": "3.9.17"
  }
 },
 "nbformat": 4,
 "nbformat_minor": 4
}
