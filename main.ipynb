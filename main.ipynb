{
 "cells": [
  {
   "cell_type": "code",
   "execution_count": 1,
   "metadata": {},
   "outputs": [
    {
     "data": {
      "application/vnd.jupyter.widget-view+json": {
       "model_id": "49819171b0dd4e5b99ab8e9fa0b10248",
       "version_major": 2,
       "version_minor": 0
      },
      "text/plain": [
       "Canvas(height=664, sync_image_data=True, width=1050)"
      ]
     },
     "metadata": {},
     "output_type": "display_data"
    },
    {
     "name": "stderr",
     "output_type": "stream",
     "text": [
      "/home/tom/anaconda3/envs/rl/lib/python3.9/site-packages/gymnasium/utils/passive_env_checker.py:335: UserWarning: \u001b[33mWARN: No render fps was declared in the environment (env.metadata['render_fps'] is None or not defined), rendering may occur at inconsistent fps.\u001b[0m\n",
      "  logger.warn(\n"
     ]
    }
   ],
   "source": [
    "import gymnasium as gym\n",
    "import importlib\n",
    "import numpy as np\n",
    "\n",
    "from time import sleep\n",
    "\n",
    "import backtothecode_gym\n",
    "import backtothecode_gym.envs.lib.renderer as renderer\n",
    "import backtothecode_players as players\n",
    "\n",
    "importlib.reload(gym)\n",
    "importlib.reload(players)\n",
    "importlib.reload(renderer)\n",
    "\n",
    "params = backtothecode_gym.envs.BackToTheCodeEnvParams\n",
    "\n",
    "def init_game(players):\n",
    "    bttc = gym.make('BackToTheCode', \n",
    "                    board_size=(20, 35),\n",
    "                    players=players,\n",
    "                    renderer=renderer.CanvasRenderer())\n",
    "    bttc.reset()\n",
    "    for id, player in enumerate(players):\n",
    "        player.reset(id, bttc.unwrapped.board)\n",
    "    return bttc\n",
    "\n",
    "bttc = init_game(\n",
    "    players=[\n",
    "        players.RandomPlayer(\n",
    "            name='Hero'\n",
    "        ),\n",
    "        players.RandomPlayer(\n",
    "            name='Opponent'\n",
    "        )\n",
    "    ]\n",
    ")\n",
    "hero = bttc.unwrapped.get_player(params.HERO_ID)\n",
    "terminated = False\n",
    "truncated = False\n",
    "while not terminated and not truncated:\n",
    "    action = hero.move()\n",
    "    observation, reward, terminated, truncated, info = bttc.step(action)\n",
    "    bttc.render()\n",
    "    sleep(0.01)\n",
    "\n",
    "bttc.close()"
   ]
  },
  {
   "cell_type": "code",
   "execution_count": null,
   "metadata": {},
   "outputs": [],
   "source": []
  },
  {
   "cell_type": "code",
   "execution_count": null,
   "metadata": {},
   "outputs": [],
   "source": []
  },
  {
   "cell_type": "code",
   "execution_count": null,
   "metadata": {},
   "outputs": [],
   "source": []
  }
 ],
 "metadata": {
  "kernelspec": {
   "display_name": "Python 3 (ipykernel)",
   "language": "python",
   "name": "python3"
  },
  "language_info": {
   "codemirror_mode": {
    "name": "ipython",
    "version": 3
   },
   "file_extension": ".py",
   "mimetype": "text/x-python",
   "name": "python",
   "nbconvert_exporter": "python",
   "pygments_lexer": "ipython3",
   "version": "3.9.17"
  }
 },
 "nbformat": 4,
 "nbformat_minor": 4
}
