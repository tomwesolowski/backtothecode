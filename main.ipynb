{
 "cells": [
  {
   "cell_type": "code",
   "execution_count": 2,
   "metadata": {},
   "outputs": [],
   "source": [
    "import datetime\n",
    "import gymnasium as gym\n",
    "# import importlib\n",
    "import numpy as np\n",
    "\n",
    "from time import sleep\n",
    "\n",
    "import backtothecode_gym\n",
    "import backtothecode_gym.envs.lib.board as board_lib\n",
    "import backtothecode_gym.envs.lib.renderer as renderer_lib\n",
    "import backtothecode_players as players_lib\n",
    "\n",
    "from backtothecode_gym.envs import BackToTheCodeEnvParams\n",
    "\n",
    "def create_game(params):\n",
    "    players = [\n",
    "        players_lib.AIPlayer(\n",
    "            id=params.HERO_ID,\n",
    "            name='Hero',\n",
    "        ),\n",
    "        players_lib.RandomPlayer(\n",
    "            id=params.OPPONENT_ID,\n",
    "            name='Opponent',\n",
    "            momentum=0.5\n",
    "        )\n",
    "    ]\n",
    "    bttc = gym.make(\n",
    "        id='BackToTheCode',\n",
    "        players=players,\n",
    "        renderer=renderer_lib.CanvasRenderer()\n",
    "    )\n",
    "    return bttc, players\n",
    "\n",
    "\n",
    "def play_game(bttc, players, is_training=False, verbose=False):\n",
    "    bttc.reset(is_training=is_training)\n",
    "    terminated = False\n",
    "    truncated = False\n",
    "    while not terminated and not truncated:\n",
    "        old_board = bttc.unwrapped.board.copy()\n",
    "        action = hero.move(old_board, verbose=verbose)\n",
    "        observation, reward, terminated, truncated, info = bttc.step(action)\n",
    "        new_board = bttc.unwrapped.board.copy()\n",
    "        if is_training:\n",
    "            # Send feedback to the hero\n",
    "            hero.feedback(old_board, action, reward, new_board, terminated or truncated)\n",
    "        else:\n",
    "            bttc.render()\n",
    "            sleep(0.1)"
   ]
  },
  {
   "cell_type": "code",
   "execution_count": null,
   "metadata": {},
   "outputs": [],
   "source": [
    "bttc, players = create_game(BackToTheCodeEnvParams)\n",
    "hero, opponent = players\n",
    "\n",
    "run_name = datetime.datetime.now().strftime('%Y%m%d-%H%M%S')     \n",
    "print(run_name)\n",
    "num_training_games = 30\n",
    "for game_id in range(num_training_games):\n",
    "    print(f\"Game {game_id}... \", end='')\n",
    "    play_game(bttc, players, is_training=True)\n",
    "    for player in players:\n",
    "        if player.trainable:\n",
    "            player.train()\n",
    "    print(f\"Rounds: {bttc.round_number} Score: {hero.score}/{opponent.score}\", hero.rewards)\n",
    "    \n",
    "hero.save(run_name)\n",
    "\n",
    "print(\"Showtime!\")\n",
    "play_game(bttc, players, is_training=False)\n",
    "    \n",
    "bttc.close()"
   ]
  },
  {
   "cell_type": "code",
   "execution_count": 3,
   "metadata": {},
   "outputs": [
    {
     "name": "stdout",
     "output_type": "stream",
     "text": [
      "Showtime!\n",
      "tensor([0.4532, 0.4617, 0.4030, 0.4602], grad_fn=<AddBackward0>)\n"
     ]
    },
    {
     "name": "stderr",
     "output_type": "stream",
     "text": [
      "/Users/tomwesolowski/miniconda3/lib/python3.9/site-packages/gymnasium/utils/passive_env_checker.py:335: UserWarning: \u001b[33mWARN: No render fps was declared in the environment (env.metadata['render_fps'] is None or not defined), rendering may occur at inconsistent fps.\u001b[0m\n",
      "  logger.warn(\n"
     ]
    },
    {
     "data": {
      "application/vnd.jupyter.widget-view+json": {
       "model_id": "81bf02717d3641a7b95501a60d5a2ac6",
       "version_major": 2,
       "version_minor": 0
      },
      "text/plain": [
       "Canvas(height=696, sync_image_data=True, width=1050)"
      ]
     },
     "metadata": {},
     "output_type": "display_data"
    },
    {
     "name": "stdout",
     "output_type": "stream",
     "text": [
      "tensor([0.3091, 0.4045, 0.4409, 0.3567], grad_fn=<AddBackward0>)\n",
      "tensor([0.4160, 0.4363, 0.4205, 0.3605], grad_fn=<AddBackward0>)\n",
      "tensor([0.3091, 0.4045, 0.4409, 0.3567], grad_fn=<AddBackward0>)\n",
      "tensor([0.4160, 0.4363, 0.4205, 0.3605], grad_fn=<AddBackward0>)\n",
      "tensor([0.3091, 0.4045, 0.4409, 0.3567], grad_fn=<AddBackward0>)\n",
      "tensor([0.4160, 0.4363, 0.4205, 0.3605], grad_fn=<AddBackward0>)\n",
      "tensor([0.3091, 0.4045, 0.4409, 0.3567], grad_fn=<AddBackward0>)\n",
      "tensor([0.4164, 0.4183, 0.1207, 0.3000], grad_fn=<AddBackward0>)\n",
      "tensor([0.2498, 0.3307, 0.2374, 0.3387], grad_fn=<AddBackward0>)\n",
      "tensor([0.2448, 0.3598, 0.2883, 0.3388], grad_fn=<AddBackward0>)\n",
      "tensor([0.3091, 0.4045, 0.4409, 0.3567], grad_fn=<AddBackward0>)\n",
      "tensor([0.2800, 0.3473, 0.1768, 0.2573], grad_fn=<AddBackward0>)\n",
      "tensor([0.2498, 0.3307, 0.2374, 0.3387], grad_fn=<AddBackward0>)\n",
      "tensor([0.2448, 0.3598, 0.2883, 0.3388], grad_fn=<AddBackward0>)\n"
     ]
    },
    {
     "ename": "KeyboardInterrupt",
     "evalue": "",
     "output_type": "error",
     "traceback": [
      "\u001b[0;31m---------------------------------------------------------------------------\u001b[0m",
      "\u001b[0;31mKeyboardInterrupt\u001b[0m                         Traceback (most recent call last)",
      "\u001b[0;32m/var/folders/gv/prtbwn8n1552r63fcfz1w5tr00c80w/T/ipykernel_86922/1673426657.py\u001b[0m in \u001b[0;36m<module>\u001b[0;34m\u001b[0m\n\u001b[1;32m      6\u001b[0m \u001b[0;34m\u001b[0m\u001b[0m\n\u001b[1;32m      7\u001b[0m \u001b[0mprint\u001b[0m\u001b[0;34m(\u001b[0m\u001b[0;34m\"Showtime!\"\u001b[0m\u001b[0;34m)\u001b[0m\u001b[0;34m\u001b[0m\u001b[0;34m\u001b[0m\u001b[0m\n\u001b[0;32m----> 8\u001b[0;31m \u001b[0mplay_game\u001b[0m\u001b[0;34m(\u001b[0m\u001b[0mbttc\u001b[0m\u001b[0;34m,\u001b[0m \u001b[0mplayers\u001b[0m\u001b[0;34m,\u001b[0m \u001b[0mis_training\u001b[0m\u001b[0;34m=\u001b[0m\u001b[0;32mFalse\u001b[0m\u001b[0;34m,\u001b[0m \u001b[0mverbose\u001b[0m\u001b[0;34m=\u001b[0m\u001b[0;32mTrue\u001b[0m\u001b[0;34m)\u001b[0m\u001b[0;34m\u001b[0m\u001b[0;34m\u001b[0m\u001b[0m\n\u001b[0m\u001b[1;32m      9\u001b[0m \u001b[0;34m\u001b[0m\u001b[0m\n\u001b[1;32m     10\u001b[0m \u001b[0mbttc\u001b[0m\u001b[0;34m.\u001b[0m\u001b[0mclose\u001b[0m\u001b[0;34m(\u001b[0m\u001b[0;34m)\u001b[0m\u001b[0;34m\u001b[0m\u001b[0;34m\u001b[0m\u001b[0m\n",
      "\u001b[0;32m/var/folders/gv/prtbwn8n1552r63fcfz1w5tr00c80w/T/ipykernel_86922/1667512356.py\u001b[0m in \u001b[0;36mplay_game\u001b[0;34m(bttc, players, is_training, verbose)\u001b[0m\n\u001b[1;32m     47\u001b[0m         \u001b[0;32melse\u001b[0m\u001b[0;34m:\u001b[0m\u001b[0;34m\u001b[0m\u001b[0;34m\u001b[0m\u001b[0m\n\u001b[1;32m     48\u001b[0m             \u001b[0mbttc\u001b[0m\u001b[0;34m.\u001b[0m\u001b[0mrender\u001b[0m\u001b[0;34m(\u001b[0m\u001b[0;34m)\u001b[0m\u001b[0;34m\u001b[0m\u001b[0;34m\u001b[0m\u001b[0m\n\u001b[0;32m---> 49\u001b[0;31m             \u001b[0msleep\u001b[0m\u001b[0;34m(\u001b[0m\u001b[0;36m0.1\u001b[0m\u001b[0;34m)\u001b[0m\u001b[0;34m\u001b[0m\u001b[0;34m\u001b[0m\u001b[0m\n\u001b[0m",
      "\u001b[0;31mKeyboardInterrupt\u001b[0m: "
     ]
    }
   ],
   "source": [
    "bttc, players = create_game(BackToTheCodeEnvParams)\n",
    "hero, opponent = players\n",
    " \n",
    "run_name = '20230827-112056'\n",
    "hero.load(run_name)\n",
    "\n",
    "print(\"Showtime!\")\n",
    "play_game(bttc, players, is_training=False, verbose=True)\n",
    "    \n",
    "bttc.close()"
   ]
  },
  {
   "cell_type": "code",
   "execution_count": 3,
   "metadata": {},
   "outputs": [],
   "source": [
    "# plot_scores = []\n",
    "# plot_mean_scores = []\n",
    "# total_score = 0\n",
    "# record = 0\n",
    "# agent = Agent()\n",
    "# game = SnakeGameAI()\n",
    "# while True:\n",
    "#     # get old state\n",
    "#     state_old = agent.get_state(game)\n",
    "\n",
    "#     # get move\n",
    "#     final_move = agent.get_action(state_old)\n",
    "\n",
    "#     # perform move and get new state\n",
    "#     reward, done, score = game.play_step(final_move)\n",
    "#     state_new = agent.get_state(game)\n",
    "\n",
    "#     # train short memory\n",
    "#     agent.train_short_memory(state_old, final_move, reward, state_new, done)\n",
    "\n",
    "#     # remember\n",
    "#     agent.remember(state_old, final_move, reward, state_new, done)\n",
    "\n",
    "#     if done:\n",
    "#         # train long memory, plot result\n",
    "#         game.reset()\n",
    "#         agent.n_games += 1\n",
    "#         agent.train_long_memory()\n",
    "\n",
    "#         if score > record:\n",
    "#             record = score\n",
    "#             agent.model.save()\n",
    "\n",
    "#         print('Game', agent.n_games, 'Score', score, 'Record:', record)\n",
    "\n",
    "#         plot_scores.append(score)\n",
    "#         total_score += score\n",
    "#         mean_score = total_score / agent.n_games\n",
    "#         plot_mean_scores.append(mean_score)\n",
    "#             plot(plot_scores, plot_mean_scores)"
   ]
  },
  {
   "cell_type": "code",
   "execution_count": null,
   "metadata": {},
   "outputs": [],
   "source": []
  },
  {
   "cell_type": "code",
   "execution_count": null,
   "metadata": {},
   "outputs": [],
   "source": []
  },
  {
   "cell_type": "code",
   "execution_count": null,
   "metadata": {},
   "outputs": [],
   "source": []
  }
 ],
 "metadata": {
  "kernelspec": {
   "display_name": "Python 3 (ipykernel)",
   "language": "python",
   "name": "python3"
  },
  "language_info": {
   "codemirror_mode": {
    "name": "ipython",
    "version": 3
   },
   "file_extension": ".py",
   "mimetype": "text/x-python",
   "name": "python",
   "nbconvert_exporter": "python",
   "pygments_lexer": "ipython3",
   "version": "3.9.5"
  }
 },
 "nbformat": 4,
 "nbformat_minor": 4
}
